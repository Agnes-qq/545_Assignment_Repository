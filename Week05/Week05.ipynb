{
 "cells": [
  {
   "cell_type": "code",
   "execution_count": 23,
   "metadata": {},
   "outputs": [],
   "source": [
    "import scipy as sp\n",
    "import statistics\n",
    "import pandas as pd\n",
    "import numpy as np\n",
    "import math\n",
    "import matplotlib.pyplot as plt\n",
    "from scipy.optimize import minimize\n",
    "from scipy.stats import t\n",
    "from scipy.stats import norm\n",
    "import os\n",
    "path = os.getcwd()\n",
    "\n"
   ]
  },
  {
   "cell_type": "markdown",
   "metadata": {},
   "source": [
    "## Problem 1:"
   ]
  },
  {
   "cell_type": "code",
   "execution_count": null,
   "metadata": {},
   "outputs": [],
   "source": [
    "\n",
    "# library.py"
   ]
  },
  {
   "cell_type": "code",
   "execution_count": 8,
   "metadata": {},
   "outputs": [],
   "source": [
    "import library as lib"
   ]
  },
  {
   "cell_type": "markdown",
   "metadata": {},
   "source": [
    "## Problem 2:"
   ]
  },
  {
   "cell_type": "markdown",
   "metadata": {},
   "source": [
    "#### a. Using a normal distribution with an exponentially weighted variance (lambda=0.97); "
   ]
  },
  {
   "cell_type": "code",
   "execution_count": 37,
   "metadata": {},
   "outputs": [],
   "source": [
    "df = pd.read_csv('/Users/ruoqiyan/Documents/545_Assignment_Repository/Week05/problem1.csv')\n",
    "# Using a normal distribution with an exponentially weighted variance (lambda=0.97)\n",
    "λ = 0.97\n",
    "weights_ = lib.populateWeights(df,λ)"
   ]
  },
  {
   "cell_type": "code",
   "execution_count": 43,
   "metadata": {},
   "outputs": [
    {
     "ename": "TypeError",
     "evalue": "simulate_normal() missing 1 required positional argument: 'cov'",
     "output_type": "error",
     "traceback": [
      "\u001b[0;31m---------------------------------------------------------------------------\u001b[0m",
      "\u001b[0;31mTypeError\u001b[0m                                 Traceback (most recent call last)",
      "Cell \u001b[0;32mIn[43], line 3\u001b[0m\n\u001b[1;32m      1\u001b[0m \u001b[38;5;66;03m#x = weights_ * df['x']\u001b[39;00m\n\u001b[1;32m      2\u001b[0m x \u001b[38;5;241m=\u001b[39m df[\u001b[38;5;124m'\u001b[39m\u001b[38;5;124mx\u001b[39m\u001b[38;5;124m'\u001b[39m] \u001b[38;5;241m*\u001b[39m weights_\n\u001b[0;32m----> 3\u001b[0m x \u001b[38;5;241m=\u001b[39m \u001b[43mlib\u001b[49m\u001b[38;5;241;43m.\u001b[39;49m\u001b[43msimulate_normal\u001b[49m\u001b[43m(\u001b[49m\u001b[43mx\u001b[49m\u001b[43m)\u001b[49m\n\u001b[1;32m      4\u001b[0m VaR_weighted \u001b[38;5;241m=\u001b[39m lib\u001b[38;5;241m.\u001b[39mVaR_distribution(x)\n\u001b[1;32m      5\u001b[0m \u001b[38;5;28mprint\u001b[39m(\u001b[38;5;124m'\u001b[39m\u001b[38;5;124mVaR_weighted: \u001b[39m\u001b[38;5;124m'\u001b[39m, VaR_weighted)\n",
      "\u001b[0;31mTypeError\u001b[0m: simulate_normal() missing 1 required positional argument: 'cov'"
     ]
    }
   ],
   "source": [
    "#x = weights_ * df['x']\n",
    "x = df['x'] * weights_\n",
    "\n",
    "x = lib.simulate_normal(x,)\n",
    "VaR_weighted = lib.VaR_distribution(x)\n",
    "print('VaR_weighted: ', VaR_weighted)\n",
    "ES_weighted = lib.ES_distribution(x)\n",
    "print('ES_weighted: ', ES_weighted)"
   ]
  },
  {
   "cell_type": "markdown",
   "metadata": {},
   "source": [
    "#### b. Using a MLE fitted T distribution"
   ]
  },
  {
   "cell_type": "code",
   "execution_count": 30,
   "metadata": {},
   "outputs": [
    {
     "name": "stdout",
     "output_type": "stream",
     "text": [
      "VaR_MLEt 0.07647602684516216\n",
      "ES_MLEt 0.11321790139118341\n"
     ]
    }
   ],
   "source": [
    "x = df['x']\n",
    "model = lib.fit_general_t(x)\n",
    "\n",
    "print(\"VaR_MLEt\", lib.VaR_distribution(model.error_model)) \n",
    "print(\"ES_MLEt\", lib.ES_distribution(model.error_model))"
   ]
  },
  {
   "cell_type": "markdown",
   "metadata": {},
   "source": [
    "#### c. Using a Historic Simulation "
   ]
  },
  {
   "cell_type": "code",
   "execution_count": 49,
   "metadata": {},
   "outputs": [
    {
     "name": "stdout",
     "output_type": "stream",
     "text": [
      "VaR_his 0.075861511162783\n",
      "ES_his 0.11677669788562187\n"
     ]
    }
   ],
   "source": [
    "x = df['x']\n",
    "\n",
    "def calculate_var_historical(returns, confidence_level, method):\n",
    "    # Sort returns in ascending order\n",
    "    returns_sorted = np.sort(returns)\n",
    "\n",
    "    # Determine VaR observation index\n",
    "    index = int(len(returns_sorted) * (1 - confidence_level))\n",
    "\n",
    "    # Calculate VaR\n",
    "    if method == 'var':\n",
    "        var = -returns_sorted[index]\n",
    "    elif method == 'es':\n",
    "        var = lib.ES(returns_sorted)\n",
    "    return var\n",
    "\n",
    "confidence_level = 0.95\n",
    "# Calculate VaR using historical simulation\n",
    "print(\"VaR_his\", calculate_var_historical(x, confidence_level, 'var')) \n",
    "print(\"ES_his\", calculate_var_historical(x, confidence_level, 'es'))\n"
   ]
  },
  {
   "cell_type": "markdown",
   "metadata": {},
   "source": [
    "#### Difference"
   ]
  },
  {
   "cell_type": "code",
   "execution_count": null,
   "metadata": {},
   "outputs": [],
   "source": []
  },
  {
   "cell_type": "markdown",
   "metadata": {},
   "source": [
    "## Problem 3:"
   ]
  },
  {
   "cell_type": "code",
   "execution_count": 50,
   "metadata": {},
   "outputs": [],
   "source": [
    "df1 = pd.read_csv('/Users/ruoqiyan/Documents/545_Assignment_Repository/Week05/portfolio.csv')\n",
    "df2 = pd.read_csv('/Users/ruoqiyan/Documents/545_Assignment_Repository/Week05/DailyPrices.csv')"
   ]
  },
  {
   "cell_type": "code",
   "execution_count": 58,
   "metadata": {},
   "outputs": [],
   "source": [
    "import pandas as pd\n",
    "import numpy as np\n",
    "\n",
    "def return_calculate(prices, method=\"DISCRETE\", dateColumn=\"date\"):\n",
    "    # Check if dateColumn is in the DataFrame\n",
    "    if dateColumn not in prices.columns:\n",
    "        raise ValueError(f\"dateColumn: {dateColumn} not in DataFrame: {prices.columns}\")\n",
    "    \n",
    "    # Exclude the date column from the calculation\n",
    "    vars = [col for col in prices.columns if col != dateColumn]\n",
    "\n",
    "    # Convert prices to a matrix (numpy array) for calculations\n",
    "    p = prices[vars].values\n",
    "    n, m = p.shape\n",
    "\n",
    "    # Initialize an empty array for the calculated returns\n",
    "    p2 = np.empty((n-1, m))\n",
    "\n",
    "    # Calculate the price ratios\n",
    "    for i in range(n-1):\n",
    "        for j in range(m):\n",
    "            p2[i, j] = p[i+1, j] / p[i, j]\n",
    "\n",
    "    # Apply the specified return calculation method\n",
    "    if method.upper() == \"DISCRETE\":\n",
    "        p2 = p2 - 1.0\n",
    "    elif method.upper() == \"LOG\":\n",
    "        p2 = np.log(p2)\n",
    "    else:\n",
    "        raise ValueError(f\"method: {method} must be in (\\\"LOG\\\", \\\"DISCRETE\\\")\")\n",
    "\n",
    "    # Extract the dates for the output DataFrame\n",
    "    dates = prices[dateColumn].iloc[1:].values\n",
    "\n",
    "    # Create the output DataFrame\n",
    "    out = pd.DataFrame(data=p2, columns=vars)\n",
    "    out.insert(0, dateColumn, dates)\n",
    "    \n",
    "    return out\n"
   ]
  },
  {
   "cell_type": "code",
   "execution_count": 227,
   "metadata": {},
   "outputs": [],
   "source": [
    "import statsmodels.api as sm\n",
    "from statsmodels.regression.linear_model import OLS\n",
    "from statsmodels.tools.tools import add_constant\n",
    "\n",
    "# Load the CSV file into a DataFrame\n",
    "prices = pd.read_csv('/Users/ruoqiyan/Documents/545_Assignment_Repository/Week05/DailyPrices.csv')\n",
    "\n",
    "# Current Prices\n",
    "current_prices = prices.iloc[-1]\n",
    "\n",
    "# Discrete returns\n",
    "returns = return_calculate(prices, dateColumn=\"Date\")"
   ]
  },
  {
   "cell_type": "markdown",
   "metadata": {},
   "source": [
    "#### Portfolio A"
   ]
  },
  {
   "cell_type": "code",
   "execution_count": 228,
   "metadata": {},
   "outputs": [],
   "source": [
    "df_A = df1[df1['Portfolio']=='A']\n",
    "A_stock = list(df_A['Stock'].unique())"
   ]
  },
  {
   "cell_type": "code",
   "execution_count": 229,
   "metadata": {},
   "outputs": [],
   "source": [
    "stocks = A_stock\n",
    "# Get names of the columns except 'Date' and 'PLD'\n",
    "nms = [nm for nm in stocks if nm not in [\"Date\", \"PLD\"]]\n",
    "#nms.append('SPY')\n",
    "returns = returns[nms]\n",
    "\n",
    "# Setup how much we hold\n",
    "Portfolio = pd.DataFrame({'stock': stocks, 'holding': np.ones(len(stocks))})\n",
    "\n",
    "# Remove the mean from all returns\n",
    "for nm in nms:\n",
    "    v = returns[nm]\n",
    "    returns[nm] = v - v.mean()\n"
   ]
  },
  {
   "cell_type": "code",
   "execution_count": 230,
   "metadata": {},
   "outputs": [],
   "source": [
    "# Fit model for all stocks\n",
    "fittedModels = {}\n",
    "\n",
    "#fittedModels[\"SPY\"] = lib.fit_general_t(returns['SPY'])\n",
    "\n",
    "for stock in nms:\n",
    "    fittedModels[stock] = lib.fit_general_t(returns[stock])\n"
   ]
  },
  {
   "cell_type": "code",
   "execution_count": 231,
   "metadata": {},
   "outputs": [
    {
     "name": "stdout",
     "output_type": "stream",
     "text": [
      "Matrix is PSD\n"
     ]
    }
   ],
   "source": [
    "from scipy.stats import spearmanr, norm\n",
    "\n",
    "# nms is a list of model names\n",
    "U = pd.DataFrame()\n",
    "for nm in nms:\n",
    "    U[nm] = fittedModels[nm].u\n",
    "\n",
    "# Calculate Spearman's rank correlation matrix\n",
    "R = spearmanr(U.values).correlation\n",
    "\n",
    "# Check the rank of R\n",
    "evals = np.linalg.eigvals(R)\n",
    "if min(evals) > -1e-8:\n",
    "    print(\"Matrix is PSD\")\n",
    "else:\n",
    "    print(\"Matrix is not PSD\")"
   ]
  },
  {
   "cell_type": "code",
   "execution_count": 232,
   "metadata": {},
   "outputs": [],
   "source": [
    "# Simulation\n",
    "NSim = 5000\n",
    "\n",
    "simU = pd.DataFrame(\n",
    "    norm.cdf(lib.simulate_pca(R, NSim)), \n",
    "    columns=nms\n",
    ")\n",
    "\n",
    "\n",
    "#simulatedReturns = pd.DataFrame({'SPY': fittedModels[\"SPY\"].eval(simU['SPY'])})\n",
    "simulatedReturns = pd.DataFrame()\n",
    "\n",
    "for stock in nms:\n",
    "    simulatedReturns[stock] = fittedModels[stock].eval(simU[stock])\n"
   ]
  },
  {
   "cell_type": "code",
   "execution_count": 233,
   "metadata": {},
   "outputs": [],
   "source": [
    "iteration = [i for i in range(1, NSim + 1)]  # Adjusted for zero-based indexing\n",
    "values = pd.merge(Portfolio.assign(key=0), pd.DataFrame({'iteration': iteration}).assign(key=0), on='key').drop('key', axis=1)\n",
    "\n",
    "nVals = len(values)\n",
    "currentValue = np.empty(nVals)\n",
    "simulatedValue = np.empty(nVals)\n",
    "pnl = np.empty(nVals)\n",
    "\n",
    "for i in range(nVals):  # Adjusted for zero-based indexing\n",
    "    price = current_prices[values.loc[i, 'stock']]\n",
    "    holding = values.loc[i, 'holding']\n",
    "    currentValue[i] = holding * price\n",
    "    iteration = values.loc[i, 'iteration']-1\n",
    "    simulatedValue[i] = holding * price * (1.0 + simulatedReturns.loc[iteration, values.loc[i, 'stock']])\n",
    "    pnl[i] = simulatedValue[i] - currentValue[i]\n",
    "\n",
    "values['currentValue'] = currentValue\n",
    "values['simulatedValue'] = simulatedValue\n",
    "values['pnl'] = pnl\n"
   ]
  },
  {
   "cell_type": "code",
   "execution_count": 234,
   "metadata": {},
   "outputs": [
    {
     "data": {
      "text/html": [
       "<div>\n",
       "<style scoped>\n",
       "    .dataframe tbody tr th:only-of-type {\n",
       "        vertical-align: middle;\n",
       "    }\n",
       "\n",
       "    .dataframe tbody tr th {\n",
       "        vertical-align: top;\n",
       "    }\n",
       "\n",
       "    .dataframe thead th {\n",
       "        text-align: right;\n",
       "    }\n",
       "</style>\n",
       "<table border=\"1\" class=\"dataframe\">\n",
       "  <thead>\n",
       "    <tr style=\"text-align: right;\">\n",
       "      <th></th>\n",
       "      <th>stock</th>\n",
       "      <th>holding</th>\n",
       "      <th>iteration</th>\n",
       "      <th>currentValue</th>\n",
       "      <th>simulatedValue</th>\n",
       "      <th>pnl</th>\n",
       "    </tr>\n",
       "  </thead>\n",
       "  <tbody>\n",
       "    <tr>\n",
       "      <th>0</th>\n",
       "      <td>AAPL</td>\n",
       "      <td>1.0</td>\n",
       "      <td>1</td>\n",
       "      <td>150.639999</td>\n",
       "      <td>153.970027</td>\n",
       "      <td>3.330027</td>\n",
       "    </tr>\n",
       "    <tr>\n",
       "      <th>1</th>\n",
       "      <td>AAPL</td>\n",
       "      <td>1.0</td>\n",
       "      <td>2</td>\n",
       "      <td>150.639999</td>\n",
       "      <td>154.818403</td>\n",
       "      <td>4.178403</td>\n",
       "    </tr>\n",
       "    <tr>\n",
       "      <th>2</th>\n",
       "      <td>AAPL</td>\n",
       "      <td>1.0</td>\n",
       "      <td>3</td>\n",
       "      <td>150.639999</td>\n",
       "      <td>151.249100</td>\n",
       "      <td>0.609101</td>\n",
       "    </tr>\n",
       "    <tr>\n",
       "      <th>3</th>\n",
       "      <td>AAPL</td>\n",
       "      <td>1.0</td>\n",
       "      <td>4</td>\n",
       "      <td>150.639999</td>\n",
       "      <td>147.929285</td>\n",
       "      <td>-2.710714</td>\n",
       "    </tr>\n",
       "    <tr>\n",
       "      <th>4</th>\n",
       "      <td>AAPL</td>\n",
       "      <td>1.0</td>\n",
       "      <td>5</td>\n",
       "      <td>150.639999</td>\n",
       "      <td>145.271388</td>\n",
       "      <td>-5.368611</td>\n",
       "    </tr>\n",
       "    <tr>\n",
       "      <th>...</th>\n",
       "      <td>...</td>\n",
       "      <td>...</td>\n",
       "      <td>...</td>\n",
       "      <td>...</td>\n",
       "      <td>...</td>\n",
       "      <td>...</td>\n",
       "    </tr>\n",
       "    <tr>\n",
       "      <th>174995</th>\n",
       "      <td>TJX</td>\n",
       "      <td>1.0</td>\n",
       "      <td>4996</td>\n",
       "      <td>80.760002</td>\n",
       "      <td>79.390958</td>\n",
       "      <td>-1.369044</td>\n",
       "    </tr>\n",
       "    <tr>\n",
       "      <th>174996</th>\n",
       "      <td>TJX</td>\n",
       "      <td>1.0</td>\n",
       "      <td>4997</td>\n",
       "      <td>80.760002</td>\n",
       "      <td>78.714498</td>\n",
       "      <td>-2.045504</td>\n",
       "    </tr>\n",
       "    <tr>\n",
       "      <th>174997</th>\n",
       "      <td>TJX</td>\n",
       "      <td>1.0</td>\n",
       "      <td>4998</td>\n",
       "      <td>80.760002</td>\n",
       "      <td>80.170617</td>\n",
       "      <td>-0.589386</td>\n",
       "    </tr>\n",
       "    <tr>\n",
       "      <th>174998</th>\n",
       "      <td>TJX</td>\n",
       "      <td>1.0</td>\n",
       "      <td>4999</td>\n",
       "      <td>80.760002</td>\n",
       "      <td>80.524515</td>\n",
       "      <td>-0.235487</td>\n",
       "    </tr>\n",
       "    <tr>\n",
       "      <th>174999</th>\n",
       "      <td>TJX</td>\n",
       "      <td>1.0</td>\n",
       "      <td>5000</td>\n",
       "      <td>80.760002</td>\n",
       "      <td>81.242599</td>\n",
       "      <td>0.482597</td>\n",
       "    </tr>\n",
       "  </tbody>\n",
       "</table>\n",
       "<p>175000 rows × 6 columns</p>\n",
       "</div>"
      ],
      "text/plain": [
       "       stock  holding  iteration  currentValue  simulatedValue       pnl\n",
       "0       AAPL      1.0          1    150.639999      153.970027  3.330027\n",
       "1       AAPL      1.0          2    150.639999      154.818403  4.178403\n",
       "2       AAPL      1.0          3    150.639999      151.249100  0.609101\n",
       "3       AAPL      1.0          4    150.639999      147.929285 -2.710714\n",
       "4       AAPL      1.0          5    150.639999      145.271388 -5.368611\n",
       "...      ...      ...        ...           ...             ...       ...\n",
       "174995   TJX      1.0       4996     80.760002       79.390958 -1.369044\n",
       "174996   TJX      1.0       4997     80.760002       78.714498 -2.045504\n",
       "174997   TJX      1.0       4998     80.760002       80.170617 -0.589386\n",
       "174998   TJX      1.0       4999     80.760002       80.524515 -0.235487\n",
       "174999   TJX      1.0       5000     80.760002       81.242599  0.482597\n",
       "\n",
       "[175000 rows x 6 columns]"
      ]
     },
     "execution_count": 234,
     "metadata": {},
     "output_type": "execute_result"
    }
   ],
   "source": [
    "values"
   ]
  },
  {
   "cell_type": "code",
   "execution_count": 235,
   "metadata": {},
   "outputs": [],
   "source": [
    "gdf = values.groupby('iteration')\n",
    "# aggregate to totals per simulation iteration\n",
    "totalValues = gdf.agg(\n",
    "    currentValue=('currentValue', 'sum'),\n",
    "    simulatedValue=('simulatedValue', 'sum'),\n",
    "    pnl=('pnl', 'sum')\n",
    ").reset_index()"
   ]
  },
  {
   "cell_type": "code",
   "execution_count": 236,
   "metadata": {},
   "outputs": [
    {
     "name": "stdout",
     "output_type": "stream",
     "text": [
      "Portfolio A\n",
      "total VaR: 196.90687923751335\n",
      "total ES: 256.9763649278964\n",
      "total VaR_pct: 0.02998014305176433\n",
      "total ES_pct: 0.03912604887799663\n"
     ]
    }
   ],
   "source": [
    "x = totalValues['pnl']\n",
    "current = totalValues['currentValue'].iloc[0]\n",
    "print('Portfolio A')\n",
    "ttl_var = lib.VaR(x) #153.9002522009032\n",
    "print('total VaR:', ttl_var)\n",
    "#lib.var.append(ttl_var)\n",
    "ttl_es = lib.ES(x) # 202.22401640388208\n",
    "print('total ES:', ttl_es)\n",
    "#es.append(ttl_es)\n",
    "ttl_var_pct = lib.VaR(x)/current #0.030780050440180638\n",
    "print('total VaR_pct:', ttl_var_pct)\n",
    "#var_pct.append(ttl_var_pct)\n",
    "ttl_es_pct =lib.ES(x)/current #0.04044480328077642\n",
    "print('total ES_pct:', ttl_es_pct)\n",
    "#es_pct.append(ttl_es_pct)"
   ]
  },
  {
   "cell_type": "code",
   "execution_count": null,
   "metadata": {},
   "outputs": [],
   "source": []
  },
  {
   "cell_type": "code",
   "execution_count": null,
   "metadata": {},
   "outputs": [],
   "source": []
  },
  {
   "cell_type": "markdown",
   "metadata": {},
   "source": []
  },
  {
   "cell_type": "code",
   "execution_count": 239,
   "metadata": {},
   "outputs": [],
   "source": [
    "def agg(ptf, distribution):\n",
    "    returns = return_calculate(prices, dateColumn=\"Date\")\n",
    "\n",
    "    df_A = df1[df1['Portfolio']==ptf]\n",
    "    A_stock = list(df_A['Stock'].unique())\n",
    "\n",
    "    stocks = A_stock\n",
    "    # Get names of the columns except 'Date' and 'PLD'\n",
    "    nms = [nm for nm in stocks if nm not in [\"Date\", \"PLD\"]]\n",
    "    nms.append('SPY')\n",
    "    returns = returns[nms]\n",
    "\n",
    "    # Setup how much we hold\n",
    "    Portfolio = pd.DataFrame({'stock': stocks, 'holding': np.ones(len(stocks))})\n",
    "\n",
    "    # Remove the mean from all returns\n",
    "    for nm in nms:\n",
    "        v = returns[nm]\n",
    "        returns[nm] = v - v.mean()\n",
    "\n",
    "    # Fit model for all stocks\n",
    "    fittedModels = {}\n",
    "    #fittedModels[\"SPY\"] = lib.fit_normal(returns['SPY'])\n",
    "\n",
    "    if distribution == 'fit_general_t':\n",
    "        for stock in nms:\n",
    "            fittedModels[stock] = lib.fit_general_t(returns[stock])\n",
    "\n",
    "    else:\n",
    "        for stock in nms:\n",
    "            fittedModels[stock] = lib.fit_normal(returns[stock])\n",
    "\n",
    "\n",
    "\n",
    "    from scipy.stats import spearmanr, norm\n",
    "\n",
    "    # nms is a list of model names\n",
    "    U = pd.DataFrame()\n",
    "    for nm in nms:\n",
    "        U[nm] = fittedModels[nm].u\n",
    "\n",
    "    # Calculate Spearman's rank correlation matrix\n",
    "    R = spearmanr(U.values).correlation\n",
    "\n",
    "    # Check the rank of R\n",
    "    evals = np.linalg.eigvals(R)\n",
    "    if min(evals) > -1e-8:\n",
    "        print(\"Matrix is PSD\")\n",
    "    else:\n",
    "        print(\"Matrix is not PSD\")\n",
    "\n",
    "    # Simulation\n",
    "    NSim = 5000\n",
    "\n",
    "    simU = pd.DataFrame(\n",
    "        norm.cdf(lib.simulate_pca(R, NSim)),  # Convert standard normals to U\n",
    "        columns=nms\n",
    "    )\n",
    "    simulatedReturns = pd.DataFrame()\n",
    "    for stock in nms:\n",
    "        # Assuming eval for other stocks takes two parameters: SPY's simulated returns and the stock's own simulations\n",
    "        simulatedReturns[stock] = fittedModels[stock].eval(simU[stock])\n",
    "\n",
    "\n",
    "    iteration = [i for i in range(1, NSim + 1)]  # Adjusted for zero-based indexing\n",
    "    values = pd.merge(Portfolio.assign(key=0), pd.DataFrame({'iteration': iteration}).assign(key=0), on='key').drop('key', axis=1)\n",
    "\n",
    "    nVals = len(values)\n",
    "    currentValue = np.empty(nVals)\n",
    "    simulatedValue = np.empty(nVals)\n",
    "    pnl = np.empty(nVals)\n",
    "\n",
    "    for i in range(nVals):  # Adjusted for zero-based indexing\n",
    "        price = current_prices[values.loc[i, 'stock']]\n",
    "        holding = values.loc[i, 'holding']\n",
    "        currentValue[i] = holding * price\n",
    "        iteration = values.loc[i, 'iteration']-1\n",
    "        simulatedValue[i] = holding * price * (1.0 + simulatedReturns.loc[iteration, values.loc[i, 'stock']])\n",
    "        pnl[i] = simulatedValue[i] - currentValue[i]\n",
    "\n",
    "    values['currentValue'] = currentValue\n",
    "    values['simulatedValue'] = simulatedValue\n",
    "    values['pnl'] = pnl\n",
    "\n",
    "    gdf = values.groupby('iteration')\n",
    "    # aggregate to totals per simulation iteration\n",
    "    totalValues = gdf.agg(\n",
    "        currentValue=('currentValue', 'sum'),\n",
    "        simulatedValue=('simulatedValue', 'sum'),\n",
    "        pnl=('pnl', 'sum')\n",
    "    ).reset_index()\n",
    "\n",
    "    x = totalValues['pnl']\n",
    "    current = totalValues['currentValue'].iloc[0]\n",
    "    print('Portfolio'+ ptf)\n",
    "    ttl_var = lib.VaR(x) #153.9002522009032\n",
    "    print('total VaR:', ttl_var)\n",
    "    #lib.var.append(ttl_var)\n",
    "    ttl_es = lib.ES(x) # 202.22401640388208\n",
    "    print('total ES:', ttl_es)\n",
    "    #es.append(ttl_es)\n",
    "    ttl_var_pct = lib.VaR(x)/current #0.030780050440180638\n",
    "    print('total VaR_pct:', ttl_var_pct)\n",
    "    #var_pct.append(ttl_var_pct)\n",
    "    ttl_es_pct =lib.ES(x)/current #0.04044480328077642\n",
    "    print('total ES_pct:', ttl_es_pct)\n",
    "    #es_pct.append(ttl_es_pct)\n",
    "\n",
    "\n",
    "   \n"
   ]
  },
  {
   "cell_type": "code",
   "execution_count": 240,
   "metadata": {},
   "outputs": [
    {
     "name": "stdout",
     "output_type": "stream",
     "text": [
      "Matrix is PSD\n",
      "PortfolioA\n",
      "total VaR: 200.13018663416509\n",
      "total ES: 262.18885925990065\n",
      "total VaR_pct: 0.030470909129748154\n",
      "total ES_pct: 0.03991967948315949\n"
     ]
    }
   ],
   "source": [
    "agg('A','fit_general_t')"
   ]
  },
  {
   "cell_type": "code",
   "execution_count": 241,
   "metadata": {},
   "outputs": [
    {
     "name": "stdout",
     "output_type": "stream",
     "text": [
      "Matrix is PSD\n"
     ]
    },
    {
     "ename": "KeyError",
     "evalue": "'PLD'",
     "output_type": "error",
     "traceback": [
      "\u001b[0;31m---------------------------------------------------------------------------\u001b[0m",
      "\u001b[0;31mKeyError\u001b[0m                                  Traceback (most recent call last)",
      "Cell \u001b[0;32mIn[241], line 1\u001b[0m\n\u001b[0;32m----> 1\u001b[0m \u001b[43magg\u001b[49m\u001b[43m(\u001b[49m\u001b[38;5;124;43m'\u001b[39;49m\u001b[38;5;124;43mC\u001b[39;49m\u001b[38;5;124;43m'\u001b[39;49m\u001b[43m,\u001b[49m\u001b[38;5;124;43m'\u001b[39;49m\u001b[38;5;124;43mfit_normal\u001b[39;49m\u001b[38;5;124;43m'\u001b[39;49m\u001b[43m)\u001b[49m\n",
      "Cell \u001b[0;32mIn[239], line 62\u001b[0m, in \u001b[0;36magg\u001b[0;34m(ptf, distribution)\u001b[0m\n\u001b[1;32m     59\u001b[0m simulatedReturns \u001b[38;5;241m=\u001b[39m pd\u001b[38;5;241m.\u001b[39mDataFrame()\n\u001b[1;32m     60\u001b[0m \u001b[38;5;28;01mfor\u001b[39;00m stock \u001b[38;5;129;01min\u001b[39;00m stocks:\n\u001b[1;32m     61\u001b[0m     \u001b[38;5;66;03m# Assuming eval for other stocks takes two parameters: SPY's simulated returns and the stock's own simulations\u001b[39;00m\n\u001b[0;32m---> 62\u001b[0m     simulatedReturns[stock] \u001b[38;5;241m=\u001b[39m \u001b[43mfittedModels\u001b[49m\u001b[43m[\u001b[49m\u001b[43mstock\u001b[49m\u001b[43m]\u001b[49m\u001b[38;5;241m.\u001b[39meval(simU[stock])\n\u001b[1;32m     65\u001b[0m iteration \u001b[38;5;241m=\u001b[39m [i \u001b[38;5;28;01mfor\u001b[39;00m i \u001b[38;5;129;01min\u001b[39;00m \u001b[38;5;28mrange\u001b[39m(\u001b[38;5;241m1\u001b[39m, NSim \u001b[38;5;241m+\u001b[39m \u001b[38;5;241m1\u001b[39m)]  \u001b[38;5;66;03m# Adjusted for zero-based indexing\u001b[39;00m\n\u001b[1;32m     66\u001b[0m values \u001b[38;5;241m=\u001b[39m pd\u001b[38;5;241m.\u001b[39mmerge(Portfolio\u001b[38;5;241m.\u001b[39massign(key\u001b[38;5;241m=\u001b[39m\u001b[38;5;241m0\u001b[39m), pd\u001b[38;5;241m.\u001b[39mDataFrame({\u001b[38;5;124m'\u001b[39m\u001b[38;5;124miteration\u001b[39m\u001b[38;5;124m'\u001b[39m: iteration})\u001b[38;5;241m.\u001b[39massign(key\u001b[38;5;241m=\u001b[39m\u001b[38;5;241m0\u001b[39m), on\u001b[38;5;241m=\u001b[39m\u001b[38;5;124m'\u001b[39m\u001b[38;5;124mkey\u001b[39m\u001b[38;5;124m'\u001b[39m)\u001b[38;5;241m.\u001b[39mdrop(\u001b[38;5;124m'\u001b[39m\u001b[38;5;124mkey\u001b[39m\u001b[38;5;124m'\u001b[39m, axis\u001b[38;5;241m=\u001b[39m\u001b[38;5;241m1\u001b[39m)\n",
      "\u001b[0;31mKeyError\u001b[0m: 'PLD'"
     ]
    }
   ],
   "source": [
    "agg('C','fit_normal')"
   ]
  }
 ],
 "metadata": {
  "kernelspec": {
   "display_name": "Python 3",
   "language": "python",
   "name": "python3"
  },
  "language_info": {
   "codemirror_mode": {
    "name": "ipython",
    "version": 3
   },
   "file_extension": ".py",
   "mimetype": "text/x-python",
   "name": "python",
   "nbconvert_exporter": "python",
   "pygments_lexer": "ipython3",
   "version": "3.11.5"
  }
 },
 "nbformat": 4,
 "nbformat_minor": 2
}
